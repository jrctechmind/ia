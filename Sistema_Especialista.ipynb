{
  "nbformat": 4,
  "nbformat_minor": 0,
  "metadata": {
    "colab": {
      "provenance": [],
      "authorship_tag": "ABX9TyOMjnZmvRPwHWNCGGz+yBbZ",
      "include_colab_link": true
    },
    "kernelspec": {
      "name": "python3",
      "display_name": "Python 3"
    },
    "language_info": {
      "name": "python"
    }
  },
  "cells": [
    {
      "cell_type": "markdown",
      "metadata": {
        "id": "view-in-github",
        "colab_type": "text"
      },
      "source": [
        "<a href=\"https://colab.research.google.com/github/jrctechmind/ia/blob/main/Sistema_Especialista.ipynb\" target=\"_parent\"><img src=\"https://colab.research.google.com/assets/colab-badge.svg\" alt=\"Open In Colab\"/></a>"
      ]
    },
    {
      "cell_type": "code",
      "execution_count": 1,
      "metadata": {
        "colab": {
          "base_uri": "https://localhost:8080/"
        },
        "id": "45-9OpJ1WbMj",
        "outputId": "7bf55eda-bc6e-4326-9fa8-b11d58d75472"
      },
      "outputs": [
        {
          "output_type": "stream",
          "name": "stdout",
          "text": [
            "Sistema Especialista - Diagnóstico Médico\n",
            "Sintomas disponíveis: febre, tosse, dor de cabeça, erupção cutânea, falta de ar, vômito\n",
            "Insira os sintomas que você está sentindo (separados por vírgula):\n",
            "tosse, falta de ar\n",
            "Diagnóstico: asma\n"
          ]
        }
      ],
      "source": [
        "# Base de conhecimento com regras de diagnóstico\n",
        "base_conhecimento = {\n",
        "    \"febre\": {\n",
        "        \"tosse\": \"resfriado\",\n",
        "        \"erupcao cutanea\": \"sarampo\"\n",
        "    },\n",
        "    \"dor de cabeca\": {\n",
        "        \"febre\": \"gripe\",\n",
        "        \"vomito\": \"envenenamento\"\n",
        "    },\n",
        "    \"tosse\": {\n",
        "        \"falta de ar\": \"asma\",\n",
        "        \"dor de cabeca\": \"resfriado\"\n",
        "    }\n",
        "}\n",
        "\n",
        "# Função para fazer o diagnóstico\n",
        "def diagnosticar(sintomas):\n",
        "    for sintoma, valor in base_conhecimento.items():\n",
        "        if sintoma in sintomas:\n",
        "            for condicao, diagnostico in valor.items():\n",
        "                if condicao in sintomas:\n",
        "                    return diagnostico\n",
        "    return \"Não foi possível fazer o diagnóstico.\"\n",
        "\n",
        "# Função principal\n",
        "def main():\n",
        "    print(\"Sistema Especialista - Diagnóstico Médico\")\n",
        "    print(\"Sintomas disponíveis: febre, tosse, dor de cabeça, erupção cutânea, falta de ar, vômito\")\n",
        "    print(\"Insira os sintomas que você está sentindo (separados por vírgula):\")\n",
        "    sintomas = input().lower().split(\", \")\n",
        "    diagnostico = diagnosticar(sintomas)\n",
        "    print(\"Diagnóstico:\", diagnostico)\n",
        "\n",
        "# Executar o sistema especialista\n",
        "if __name__ == \"__main__\":\n",
        "    main()\n"
      ]
    }
  ]
}