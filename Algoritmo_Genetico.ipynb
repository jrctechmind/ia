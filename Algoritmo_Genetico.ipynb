{
  "nbformat": 4,
  "nbformat_minor": 0,
  "metadata": {
    "colab": {
      "provenance": [],
      "authorship_tag": "ABX9TyM58ZQmUdlo1S8ixAdSIKyF",
      "include_colab_link": true
    },
    "kernelspec": {
      "name": "python3",
      "display_name": "Python 3"
    },
    "language_info": {
      "name": "python"
    }
  },
  "cells": [
    {
      "cell_type": "markdown",
      "metadata": {
        "id": "view-in-github",
        "colab_type": "text"
      },
      "source": [
        "<a href=\"https://colab.research.google.com/github/jrctechmind/ia/blob/main/Algoritmo_Genetico.ipynb\" target=\"_parent\"><img src=\"https://colab.research.google.com/assets/colab-badge.svg\" alt=\"Open In Colab\"/></a>"
      ]
    },
    {
      "cell_type": "code",
      "source": [
        "import random\n",
        "\n",
        "# Parâmetros do algoritmo genético\n",
        "alvo = \"11010110\"  # String de bits alvo que queremos encontrar\n",
        "tamanho_populacao = 100  # Tamanho da população\n",
        "taxa_mutacao = 0.01  # Taxa de mutação\n",
        "\n",
        "# Função para criar um indivíduo aleatório\n",
        "def criar_individuo(tamanho):\n",
        "    return ''.join(random.choice(\"01\") for _ in range(tamanho))\n",
        "\n",
        "# Função para calcular o fitness de um indivíduo (quantidade de bits que coincidem com o alvo)\n",
        "def fitness(individuo):\n",
        "    return sum(1 for esperado, atual in zip(alvo, individuo) if esperado == atual)\n",
        "\n",
        "# Função para selecionar indivíduos da população com base em seu fitness\n",
        "def selecao(populacao):\n",
        "    return random.choices(populacao, weights=[fitness(individuo) for individuo in populacao], k=2)\n",
        "\n",
        "# Função para cruzar dois indivíduos e gerar um novo indivíduo\n",
        "def cruzamento(pai1, pai2):\n",
        "    ponto_cruzamento = random.randint(1, len(pai1) - 1)\n",
        "    filho1 = pai1[:ponto_cruzamento] + pai2[ponto_cruzamento:]\n",
        "    filho2 = pai2[:ponto_cruzamento] + pai1[ponto_cruzamento:]\n",
        "    return filho1, filho2\n",
        "\n",
        "# Função para mutar um indivíduo\n",
        "def mutacao(individuo):\n",
        "    mutado = \"\"\n",
        "    for bit in individuo:\n",
        "        if random.random() < taxa_mutacao:\n",
        "            mutado += \"0\" if bit == \"1\" else \"1\"\n",
        "        else:\n",
        "            mutado += bit\n",
        "    return mutado\n",
        "\n",
        "# Função principal do algoritmo genético\n",
        "def algoritmo_genetico():\n",
        "    print(\"Algoritmo Genético iniciado.\")\n",
        "    print(\"Alvo:\", alvo)\n",
        "    print(\"Tamanho da população:\", tamanho_populacao)\n",
        "    print(\"Taxa de mutação:\", taxa_mutacao)\n",
        "    print(\"-----------------------------------------\")\n",
        "\n",
        "    populacao = [criar_individuo(len(alvo)) for _ in range(tamanho_populacao)]\n",
        "\n",
        "    geracao = 0\n",
        "    while True:\n",
        "        # Avaliar o fitness da população\n",
        "        fitness_populacao = [fitness(individuo) for individuo in populacao]\n",
        "        max_fitness = max(fitness_populacao)\n",
        "        melhor_individuo = populacao[fitness_populacao.index(max_fitness)]\n",
        "\n",
        "        # Se a solução for encontrada, sair do loop\n",
        "        if max_fitness == len(alvo):\n",
        "            print(\"Solução encontrada na geração\", geracao)\n",
        "            print(\"Indivíduo:\", melhor_individuo)\n",
        "            break\n",
        "\n",
        "        # Seleção e reprodução\n",
        "        nova_populacao = []\n",
        "        for _ in range(tamanho_populacao // 2):\n",
        "            pai1, pai2 = selecao(populacao)\n",
        "            filho1, filho2 = cruzamento(pai1, pai2)\n",
        "            nova_populacao.extend([mutacao(filho1), mutacao(filho2)])\n",
        "\n",
        "        populacao = nova_populacao\n",
        "        geracao += 1\n",
        "\n",
        "        # Mostrar informações sobre a geração atual\n",
        "        if geracao % 10 == 0:\n",
        "            print(\"Geração:\", geracao)\n",
        "            print(\"Melhor indivíduo:\", melhor_individuo)\n",
        "            print(\"Fitness máximo:\", max_fitness)\n",
        "            print(\"-----------------------------------------\")\n",
        "\n",
        "# Executar o algoritmo genético\n",
        "algoritmo_genetico()\n"
      ],
      "metadata": {
        "id": "U93n5oAUVrHB",
        "outputId": "4aed352f-59a1-4b75-c3dc-8e6d4b09da8c",
        "colab": {
          "base_uri": "https://localhost:8080/"
        }
      },
      "execution_count": 2,
      "outputs": [
        {
          "output_type": "stream",
          "name": "stdout",
          "text": [
            "Algoritmo Genético iniciado.\n",
            "Alvo: 11010110\n",
            "Tamanho da população: 100\n",
            "Taxa de mutação: 0.01\n",
            "-----------------------------------------\n",
            "Solução encontrada na geração 0\n",
            "Indivíduo: 11010110\n"
          ]
        }
      ]
    }
  ]
}